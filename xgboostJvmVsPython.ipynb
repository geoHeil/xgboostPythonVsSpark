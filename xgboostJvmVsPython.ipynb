{
 "cells": [
  {
   "cell_type": "markdown",
   "metadata": {},
   "source": [
    "# Comparison java and python version of xgboost\n",
    "Why are there different results observed in the performance metrics?\n",
    "\n",
    "The core xgboost libraries (i.e. native C core) which perform the main part of the computation should be the same in spark and python\n",
    "\n",
    "Note: I am using xgboost from the master branch (`5d74578095e1414cfcb62f9732165842f25b81ca`)\n",
    "Other libraries are the current versions from conda respectively pip.\n",
    "\n",
    "### Step 1\n",
    "generate some random data"
   ]
  },
  {
   "cell_type": "code",
   "execution_count": 1,
   "metadata": {
    "collapsed": false
   },
   "outputs": [],
   "source": [
    "from sklearn import datasets\n",
    "from sklearn.model_selection import ShuffleSplit\n",
    "from sklearn.metrics import classification_report\n",
    "import pandas as pd\n",
    "import xgboost as xgb\n",
    "import evaluation\n",
    "from sklearn.datasets import load_breast_cancer\n",
    "\n",
    "mySeed = 45"
   ]
  },
  {
   "cell_type": "code",
   "execution_count": 2,
   "metadata": {
    "collapsed": false
   },
   "outputs": [],
   "source": [
    "(X, y) = datasets.make_classification(n_samples=1000, n_features=100, n_informative=20, random_state=mySeed)\n",
    "#(X,y) = load_breast_cancer(return_X_y=True)\n",
    "df = pd.DataFrame(X)\n",
    "df['target'] = pd.Series(y)\n",
    "\n",
    "X = pd.DataFrame(X)\n",
    "y = pd.Series(y)"
   ]
  },
  {
   "cell_type": "markdown",
   "metadata": {},
   "source": [
    "### Step 2\n",
    "fit xgboost in python / sklearn on the data\n",
    "\n",
    "Deliberately specifying all the parameters for easier comparison with the spark variant."
   ]
  },
  {
   "cell_type": "code",
   "execution_count": 3,
   "metadata": {
    "collapsed": false,
    "scrolled": false
   },
   "outputs": [
    {
     "name": "stderr",
     "output_type": "stream",
     "text": [
      "/Users/geoHeil/anaconda3/lib/python3.5/site-packages/ipykernel/__main__.py:19: SettingWithCopyWarning: \n",
      "A value is trying to be set on a copy of a slice from a DataFrame.\n",
      "Try using .loc[row_indexer,col_indexer] = value instead\n",
      "\n",
      "See the caveats in the documentation: http://pandas.pydata.org/pandas-docs/stable/indexing.html#indexing-view-versus-copy\n",
      "/Users/geoHeil/anaconda3/lib/python3.5/site-packages/ipykernel/__main__.py:20: SettingWithCopyWarning: \n",
      "A value is trying to be set on a copy of a slice from a DataFrame.\n",
      "Try using .loc[row_indexer,col_indexer] = value instead\n",
      "\n",
      "See the caveats in the documentation: http://pandas.pydata.org/pandas-docs/stable/indexing.html#indexing-view-versus-copy\n"
     ]
    },
    {
     "name": "stdout",
     "output_type": "stream",
     "text": [
      "SCORING number of target: 99\n",
      "real number of target==1: 99\n"
     ]
    },
    {
     "name": "stderr",
     "output_type": "stream",
     "text": [
      "/Users/geoHeil/anaconda3/lib/python3.5/site-packages/ipykernel/__main__.py:19: SettingWithCopyWarning: \n",
      "A value is trying to be set on a copy of a slice from a DataFrame.\n",
      "Try using .loc[row_indexer,col_indexer] = value instead\n",
      "\n",
      "See the caveats in the documentation: http://pandas.pydata.org/pandas-docs/stable/indexing.html#indexing-view-versus-copy\n",
      "/Users/geoHeil/anaconda3/lib/python3.5/site-packages/ipykernel/__main__.py:20: SettingWithCopyWarning: \n",
      "A value is trying to be set on a copy of a slice from a DataFrame.\n",
      "Try using .loc[row_indexer,col_indexer] = value instead\n",
      "\n",
      "See the caveats in the documentation: http://pandas.pydata.org/pandas-docs/stable/indexing.html#indexing-view-versus-copy\n"
     ]
    },
    {
     "name": "stdout",
     "output_type": "stream",
     "text": [
      "SCORING number of target: 98\n",
      "real number of target==1: 98\n"
     ]
    },
    {
     "name": "stderr",
     "output_type": "stream",
     "text": [
      "/Users/geoHeil/anaconda3/lib/python3.5/site-packages/ipykernel/__main__.py:19: SettingWithCopyWarning: \n",
      "A value is trying to be set on a copy of a slice from a DataFrame.\n",
      "Try using .loc[row_indexer,col_indexer] = value instead\n",
      "\n",
      "See the caveats in the documentation: http://pandas.pydata.org/pandas-docs/stable/indexing.html#indexing-view-versus-copy\n",
      "/Users/geoHeil/anaconda3/lib/python3.5/site-packages/ipykernel/__main__.py:20: SettingWithCopyWarning: \n",
      "A value is trying to be set on a copy of a slice from a DataFrame.\n",
      "Try using .loc[row_indexer,col_indexer] = value instead\n",
      "\n",
      "See the caveats in the documentation: http://pandas.pydata.org/pandas-docs/stable/indexing.html#indexing-view-versus-copy\n"
     ]
    },
    {
     "name": "stdout",
     "output_type": "stream",
     "text": [
      "SCORING number of target: 94\n",
      "real number of target==1: 94\n"
     ]
    },
    {
     "name": "stderr",
     "output_type": "stream",
     "text": [
      "/Users/geoHeil/anaconda3/lib/python3.5/site-packages/ipykernel/__main__.py:19: SettingWithCopyWarning: \n",
      "A value is trying to be set on a copy of a slice from a DataFrame.\n",
      "Try using .loc[row_indexer,col_indexer] = value instead\n",
      "\n",
      "See the caveats in the documentation: http://pandas.pydata.org/pandas-docs/stable/indexing.html#indexing-view-versus-copy\n",
      "/Users/geoHeil/anaconda3/lib/python3.5/site-packages/ipykernel/__main__.py:20: SettingWithCopyWarning: \n",
      "A value is trying to be set on a copy of a slice from a DataFrame.\n",
      "Try using .loc[row_indexer,col_indexer] = value instead\n",
      "\n",
      "See the caveats in the documentation: http://pandas.pydata.org/pandas-docs/stable/indexing.html#indexing-view-versus-copy\n"
     ]
    },
    {
     "name": "stdout",
     "output_type": "stream",
     "text": [
      "SCORING number of target: 101\n",
      "real number of target==1: 101\n"
     ]
    },
    {
     "name": "stderr",
     "output_type": "stream",
     "text": [
      "/Users/geoHeil/anaconda3/lib/python3.5/site-packages/ipykernel/__main__.py:19: SettingWithCopyWarning: \n",
      "A value is trying to be set on a copy of a slice from a DataFrame.\n",
      "Try using .loc[row_indexer,col_indexer] = value instead\n",
      "\n",
      "See the caveats in the documentation: http://pandas.pydata.org/pandas-docs/stable/indexing.html#indexing-view-versus-copy\n",
      "/Users/geoHeil/anaconda3/lib/python3.5/site-packages/ipykernel/__main__.py:20: SettingWithCopyWarning: \n",
      "A value is trying to be set on a copy of a slice from a DataFrame.\n",
      "Try using .loc[row_indexer,col_indexer] = value instead\n",
      "\n",
      "See the caveats in the documentation: http://pandas.pydata.org/pandas-docs/stable/indexing.html#indexing-view-versus-copy\n"
     ]
    },
    {
     "name": "stdout",
     "output_type": "stream",
     "text": [
      "SCORING number of target: 98\n",
      "real number of target==1: 98\n"
     ]
    }
   ],
   "source": [
    "clf = xgb.XGBClassifier(max_depth=2, learning_rate=0.01, max_delta_step=2,\n",
    "                 n_estimators=2, silent=True,\n",
    "                 objective='binary:logistic', nthread=-1,\n",
    "                 gamma=0, subsample=0.7, colsample_bytree=0.7,\n",
    "                 colsample_bylevel=0.6, reg_alpha=0, reg_lambda=2, scale_pos_weight=1,\n",
    "                 base_score=0.5, missing=None, seed= mySeed)\n",
    "\n",
    "split = ShuffleSplit(n_splits=5, test_size=0.2, random_state=mySeed)\n",
    "results_for_model = []\n",
    "fold_counter = 0\n",
    "\n",
    "for train_index, test_index in split.split(X, y):\n",
    "    fold_counter += 1\n",
    "    X_train = X.iloc[train_index]\n",
    "    X_test = X.iloc[test_index]\n",
    "    y_train = y.iloc[train_index]\n",
    "    y_test = y.iloc[test_index]\n",
    "    \n",
    "    X_train['target'] = y_train\n",
    "    X_test['target'] = y_test\n",
    "    \n",
    "    X_train.to_csv('clean_train_' + str(fold_counter) + '_.csv', index=False, sep=';')\n",
    "    X_test.to_csv('clean_test_' + str(fold_counter) + '_.csv', index=False, sep=';')\n",
    "\n",
    "    \n",
    "    fit_params = {\n",
    "                'early_stopping_rounds': 20,\n",
    "                'eval_metric': ['error'],\n",
    "                'eval_set': [(X_train, y_train)],\n",
    "    }\n",
    "    clf.fit(X_train, y_train,\n",
    "                      eval_set=fit_params['eval_set'], eval_metric=fit_params['eval_metric'],\n",
    "                      early_stopping_rounds=fit_params['early_stopping_rounds'], verbose=False)\n",
    "    \n",
    "    y_pred = clf.predict(X_test)\n",
    "    # print(classification_report(y_true=y_test, y_pred=y_pred))\n",
    "    results_for_model.append(\n",
    "            evaluation.evalSingleModel(X_test, y_test, clf, 'myXgboostModel' + '_' + str(fold_counter), 'training'))"
   ]
  },
  {
   "cell_type": "markdown",
   "metadata": {},
   "source": [
    "the results for python are fairly ok (for this type of parameter setting)."
   ]
  },
  {
   "cell_type": "code",
   "execution_count": 4,
   "metadata": {
    "collapsed": false
   },
   "outputs": [
    {
     "data": {
      "text/html": [
       "<div>\n",
       "<table border=\"1\" class=\"dataframe\">\n",
       "  <thead>\n",
       "    <tr style=\"text-align: right;\">\n",
       "      <th></th>\n",
       "      <th>kappa_mean</th>\n",
       "      <th>kappa_std</th>\n",
       "      <th>Error_mean</th>\n",
       "      <th>Error_std</th>\n",
       "    </tr>\n",
       "    <tr>\n",
       "      <th>modelName</th>\n",
       "      <th></th>\n",
       "      <th></th>\n",
       "      <th></th>\n",
       "      <th></th>\n",
       "    </tr>\n",
       "  </thead>\n",
       "  <tbody>\n",
       "    <tr>\n",
       "      <th>myXgboostModel</th>\n",
       "      <td>1.0</td>\n",
       "      <td>0.0</td>\n",
       "      <td>0.0</td>\n",
       "      <td>0.0</td>\n",
       "    </tr>\n",
       "  </tbody>\n",
       "</table>\n",
       "</div>"
      ],
      "text/plain": [
       "                kappa_mean  kappa_std  Error_mean  Error_std\n",
       "modelName                                                   \n",
       "myXgboostModel         1.0        0.0         0.0        0.0"
      ]
     },
     "execution_count": 4,
     "metadata": {},
     "output_type": "execute_result"
    }
   ],
   "source": [
    "validation_scoring, train_scoring = evaluation.niceDisplayOfResults(results_for_model)\n",
    "train_scoring"
   ]
  },
  {
   "cell_type": "markdown",
   "metadata": {},
   "source": [
    "As you can see the resulting metric (kappa) is around. 63%"
   ]
  },
  {
   "cell_type": "markdown",
   "metadata": {},
   "source": [
    "### Step 3 - in spark\n",
    "just run `sbt run` when xgboost4j is already compiled /installed into your `~/.m2` folder\n",
    "\n",
    "You should see something similar to the following in spark:\n",
    "```\n",
    "MeasureUnit(kappa,0.4086460032626426)\n",
    "MeasureUnit(f1_R,0.7563025210084033)\n",
    "MeasureUnit(AUC_R,0.7011240465676435)\n",
    "```\n",
    "Here Metrics for kappa are around 0.3 up to 0.8 where in python these are strictly 1 (over-fit)\n",
    "\n",
    "As you can see there is quite some difference between the results of xgboost in python and in spark. Depending of the specific values, the difference between what python and what xgboost in spark report on my real data-set are $|(metric_{python} -metric_{spark}|$ up to $0.3$ apart What is wrong here?\n",
    "\n",
    "**Looking forward for any hints.**\n",
    "\n",
    "The settings for both classifiers should be the same, as well as the seed\n",
    "\n",
    "Python:\n",
    "```    \n",
    "mySeed = 45\n",
    "xgb.XGBClassifier(max_depth=2, learning_rate=0.01, max_delta_step=2,\n",
    "                 n_estimators=2, silent=True,\n",
    "                 objective='binary:logistic', nthread=-1,\n",
    "                 gamma=0, subsample=0.7, colsample_bytree=0.7,\n",
    "                 colsample_bylevel=0.6, reg_alpha=0, reg_lambda=2, scale_pos_weight=1,\n",
    "                 base_score=0.5, missing=None, seed= mySeed)\n",
    "````\n",
    "\n",
    "spark\n",
    "\n",
    "```\n",
    "val mySeed = 45\n",
    "val xgbBaseParams = Map(\n",
    "    \"max_depth\" -> 2,\n",
    "    \"num_rounds\" -> 2,\n",
    "    \"eta\" -> 0.01,\n",
    "    \"gamma\" -> 0.0,\n",
    "    \"subsample\" -> 0.7,\n",
    "    \"colsample_bytree\" -> 0.7,\n",
    "    \"colsample_bylevel\" -> 0.6,\n",
    "    \"min_child_weight\" -> 1,\n",
    "    \"max_delta_step\" -> 0,\n",
    "    \"seed\" -> mySeed,\n",
    "    \"eval_metric\" -> \"error\",\n",
    "    \"seed\" -> mySeed,\n",
    "    \"scale_pos_weight\" -> 1,\n",
    "    \"silent\" -> 1,\n",
    "    \"lambda\" -> 2.0,\n",
    "    \"alpha\" -> 0.0,\n",
    "    \"boosterType\" -> \"gbtree\",\n",
    "    \"useExternalMemory\" -> false,\n",
    "    \"objective\" -> \"binary:logistic\",\n",
    "    \"tracker_conf\" -> TrackerConf(1 minute, \"scala\")\n",
    "  )\n",
    "```"
   ]
  },
  {
   "cell_type": "code",
   "execution_count": null,
   "metadata": {
    "collapsed": true
   },
   "outputs": [],
   "source": []
  }
 ],
 "metadata": {
  "kernelspec": {
   "display_name": "Python [conda root]",
   "language": "python",
   "name": "conda-root-py"
  },
  "language_info": {
   "codemirror_mode": {
    "name": "ipython",
    "version": 3
   },
   "file_extension": ".py",
   "mimetype": "text/x-python",
   "name": "python",
   "nbconvert_exporter": "python",
   "pygments_lexer": "ipython3",
   "version": "3.5.2"
  }
 },
 "nbformat": 4,
 "nbformat_minor": 2
}
